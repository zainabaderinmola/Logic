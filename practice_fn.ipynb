{
 "cells": [
  {
   "cell_type": "code",
   "execution_count": null,
   "source": [
    "def lesser_of_two_evens(a,b):\r\n",
    "    if a%2 == 0 and b%2 == 0:\r\n",
    "        return min(a,b)\r\n",
    "    else:\r\n",
    "        return max(a,b)\r\n",
    "\r\n",
    "lesser_of_two_evens(2,4)\r\n",
    "\r\n",
    "lesser_of_two_evens(5,7)"
   ],
   "outputs": [],
   "metadata": {}
  },
  {
   "cell_type": "code",
   "execution_count": null,
   "source": [
    "mystring = 'levelheaded llama'\r\n",
    "\r\n",
    "newlist = mystring.split()\r\n",
    "\r\n",
    "newlist[0][3]\r\n"
   ],
   "outputs": [],
   "metadata": {}
  },
  {
   "cell_type": "code",
   "execution_count": null,
   "source": [
    "def animal_cracker(text):\r\n",
    "    text_list = text.split()\r\n",
    "    if text_list[0][0] == text_list[1][0]:\r\n",
    "        return True\r\n",
    "    else:\r\n",
    "        False\r\n",
    "\r\n",
    "animal_cracker('Levelheaded Llama')"
   ],
   "outputs": [],
   "metadata": {}
  },
  {
   "cell_type": "code",
   "execution_count": null,
   "source": [
    "sum(4,2)"
   ],
   "outputs": [],
   "metadata": {}
  },
  {
   "cell_type": "code",
   "execution_count": null,
   "source": [
    "def makes_twenty(n1,n2):\r\n",
    "    if n1 + n2 == 20 or n1 == 20 or n2 == 20:\r\n",
    "        return True\r\n",
    "    else:\r\n",
    "        return False\r\n",
    "\r\n",
    "makes_twenty(8,20)"
   ],
   "outputs": [],
   "metadata": {}
  },
  {
   "cell_type": "code",
   "execution_count": null,
   "source": [],
   "outputs": [],
   "metadata": {}
  },
  {
   "cell_type": "code",
   "execution_count": null,
   "source": [
    "def old_macdonald(name):\r\n",
    "   first_letter = name[0].upper()\r\n",
    "   middle_letter = name[1:3]\r\n",
    "   fourth_letter = name[3].upper()\r\n",
    "   last_letter = name[4:]\r\n",
    "   \r\n",
    "   myname = first_letter + middle_letter + fourth_letter + last_letter\r\n",
    "   print(myname)\r\n",
    "\r\n",
    "old_macdonald('macdonald')"
   ],
   "outputs": [],
   "metadata": {}
  },
  {
   "cell_type": "code",
   "execution_count": null,
   "source": [
    "def old_macdonald(name):\r\n",
    "    if len(name) > 3:\r\n",
    "        return(name[:3].capitalize() + name[3:].capitalize())\r\n",
    "    else:\r\n",
    "        print('Go and do your homework')\r\n",
    "\r\n",
    "old_macdonald('mack')"
   ],
   "outputs": [],
   "metadata": {}
  },
  {
   "cell_type": "code",
   "execution_count": null,
   "source": [
    "mystring = 'akimu sola'\r\n",
    "mylist = mystring.split()\r\n",
    "newstring = mylist[::-1]\r\n",
    "' '.join(newstring)\r\n"
   ],
   "outputs": [],
   "metadata": {}
  },
  {
   "cell_type": "code",
   "execution_count": null,
   "source": [
    "def master_yoda(text):\r\n",
    "    return ' '.join(text.split()[::-1])\r\n",
    "\r\n",
    "master_yoda('I am home')"
   ],
   "outputs": [],
   "metadata": {}
  },
  {
   "cell_type": "code",
   "execution_count": null,
   "source": [],
   "outputs": [],
   "metadata": {}
  },
  {
   "cell_type": "code",
   "execution_count": 94,
   "source": [
    "def almost_there(n):\r\n",
    "        if n in list(range(90, 111)) or n in list(range(190, 211)):\r\n",
    "            return True\r\n",
    "        else:\r\n",
    "            return False\r\n",
    "\r\n",
    "almost_there(210)"
   ],
   "outputs": [
    {
     "output_type": "execute_result",
     "data": {
      "text/plain": [
       "True"
      ]
     },
     "metadata": {},
     "execution_count": 94
    }
   ],
   "metadata": {}
  },
  {
   "cell_type": "code",
   "execution_count": 99,
   "source": [
    "def almost_there(n):\r\n",
    "    return ((abs(100 - n)) <= 10 or (abs(200 -n) <= 10))\r\n",
    "\r\n",
    "almost_there(159)"
   ],
   "outputs": [
    {
     "output_type": "execute_result",
     "data": {
      "text/plain": [
       "False"
      ]
     },
     "metadata": {},
     "execution_count": 99
    }
   ],
   "metadata": {}
  },
  {
   "cell_type": "code",
   "execution_count": 111,
   "source": [
    "mylist = ['hello']\r\n",
    "\r\n",
    "def has_same_letter(char):\r\n",
    "    for index in range(0,len(char)-1):\r\n",
    "        if char[index:index+2] == 'll':\r\n",
    "            return True\r\n",
    "    return False\r\n",
    "\r\n",
    "has_same_letter(mylist)\r\n"
   ],
   "outputs": [
    {
     "output_type": "execute_result",
     "data": {
      "text/plain": [
       "True"
      ]
     },
     "metadata": {},
     "execution_count": 111
    }
   ],
   "metadata": {}
  },
  {
   "cell_type": "code",
   "execution_count": null,
   "source": [],
   "outputs": [],
   "metadata": {}
  },
  {
   "cell_type": "code",
   "execution_count": 101,
   "source": [
    "def has_33(nums):\r\n",
    "    for index in range(0,len(nums)-1):\r\n",
    "        if nums[index:index+2] == [3,3]:\r\n",
    "            return True\r\n",
    "    return False\r\n",
    "\r\n",
    "has_33([1,3,3,])"
   ],
   "outputs": [
    {
     "output_type": "execute_result",
     "data": {
      "text/plain": [
       "True"
      ]
     },
     "metadata": {},
     "execution_count": 101
    }
   ],
   "metadata": {}
  },
  {
   "cell_type": "code",
   "execution_count": 115,
   "source": [
    "'hello' * 3\r\n",
    "list('hello') * 3"
   ],
   "outputs": [
    {
     "output_type": "execute_result",
     "data": {
      "text/plain": [
       "['h', 'e', 'l', 'l', 'o', 'h', 'e', 'l', 'l', 'o', 'h', 'e', 'l', 'l', 'o']"
      ]
     },
     "metadata": {},
     "execution_count": 115
    }
   ],
   "metadata": {}
  },
  {
   "cell_type": "code",
   "execution_count": 119,
   "source": [
    "def paper_doll(text):\r\n",
    "    mylist = []\r\n",
    "    for letters in text:\r\n",
    "        mylist.append(letters * 3)\r\n",
    "\r\n",
    "    print(''.join(mylist))\r\n",
    "\r\n",
    "paper_doll('hello')"
   ],
   "outputs": [
    {
     "output_type": "stream",
     "name": "stdout",
     "text": [
      "hhheeellllllooo\n"
     ]
    }
   ],
   "metadata": {}
  },
  {
   "cell_type": "code",
   "execution_count": 123,
   "source": [
    "def paper_doll(text):\r\n",
    "    mystring = ''\r\n",
    "    for item in text:\r\n",
    "        mystring = mystring + item*3\r\n",
    "    return mystring\r\n",
    "\r\n",
    "paper_doll('mississippi')"
   ],
   "outputs": [
    {
     "output_type": "execute_result",
     "data": {
      "text/plain": [
       "'mmmiiissssssiiissssssiiippppppiii'"
      ]
     },
     "metadata": {},
     "execution_count": 123
    }
   ],
   "metadata": {}
  },
  {
   "cell_type": "code",
   "execution_count": null,
   "source": [],
   "outputs": [],
   "metadata": {}
  },
  {
   "cell_type": "code",
   "execution_count": 134,
   "source": [
    "def blackjack(a,b,c):\r\n",
    "    if a in range(0,12) and b in range(0,12) and c in range(0,12):\r\n",
    "        if (a+b+c) <= 21:\r\n",
    "            print (a+b+c)\r\n",
    "        elif (a+b+c) > 21 and a ==11 or b == 11 or c == 11:\r\n",
    "            print ((a+b+c) - 10)\r\n",
    "        else:\r\n",
    "            print('BUST')  \r\n",
    "            \r\n",
    "\r\n",
    "\r\n",
    "\r\n",
    "blackjack(9,9,11)"
   ],
   "outputs": [
    {
     "output_type": "stream",
     "name": "stdout",
     "text": [
      "19\n"
     ]
    }
   ],
   "metadata": {}
  },
  {
   "cell_type": "code",
   "execution_count": null,
   "source": [],
   "outputs": [],
   "metadata": {}
  },
  {
   "cell_type": "code",
   "execution_count": 138,
   "source": [
    "def summer_69(arr):\r\n",
    "    total = 0\r\n",
    "    add = True\r\n",
    "    for num in arr:\r\n",
    "        while add == True:\r\n",
    "            if num != 6:\r\n",
    "                total += num\r\n",
    "                break\r\n",
    "            else:\r\n",
    "                add = False\r\n",
    "        while not add:\r\n",
    "            if num != 9:\r\n",
    "                break\r\n",
    "            else:\r\n",
    "                add = True\r\n",
    "    return total\r\n",
    "\r\n",
    "        \r\n",
    "summer_69([4,5,6,7,8,9])\r\n"
   ],
   "outputs": [
    {
     "output_type": "execute_result",
     "data": {
      "text/plain": [
       "9"
      ]
     },
     "metadata": {},
     "execution_count": 138
    }
   ],
   "metadata": {}
  }
 ],
 "metadata": {
  "orig_nbformat": 4,
  "language_info": {
   "name": "python",
   "version": "3.9.2",
   "mimetype": "text/x-python",
   "codemirror_mode": {
    "name": "ipython",
    "version": 3
   },
   "pygments_lexer": "ipython3",
   "nbconvert_exporter": "python",
   "file_extension": ".py"
  },
  "kernelspec": {
   "name": "python3",
   "display_name": "Python 3.9.2 64-bit"
  },
  "interpreter": {
   "hash": "8a3e235f044e0dfc6f53a4c5d4cda1e778ffe7b9a45379a9fd7dbbb5c595c2cd"
  }
 },
 "nbformat": 4,
 "nbformat_minor": 2
}