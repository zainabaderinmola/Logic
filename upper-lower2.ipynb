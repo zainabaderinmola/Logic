{
 "cells": [
  {
   "cell_type": "code",
   "execution_count": 38,
   "source": [
    "def check_upper(mystring):\r\n",
    "    upper_case_letter = []\r\n",
    "    lower_case_letter = []\r\n",
    "    for letters in mystring:\r\n",
    "        if letters.isupper():\r\n",
    "            upper_case_letter.append(letters)\r\n",
    "    return upper_case_letter \r\n",
    "\r\n",
    "check_upper('Hello, Mr Rogers')"
   ],
   "outputs": [
    {
     "output_type": "execute_result",
     "data": {
      "text/plain": [
       "['H', 'M', 'R']"
      ]
     },
     "metadata": {},
     "execution_count": 38
    }
   ],
   "metadata": {}
  },
  {
   "cell_type": "code",
   "execution_count": 39,
   "source": [
    "mylist = [1,1,1,1,2,2,2,3,3,3,4,4,4,4,5,5,6]\r\n",
    "list(set(mylist))"
   ],
   "outputs": [
    {
     "output_type": "execute_result",
     "data": {
      "text/plain": [
       "[1, 2, 3, 4, 5, 6]"
      ]
     },
     "metadata": {},
     "execution_count": 39
    }
   ],
   "metadata": {}
  }
 ],
 "metadata": {
  "orig_nbformat": 4,
  "language_info": {
   "name": "python",
   "version": "3.9.2",
   "mimetype": "text/x-python",
   "codemirror_mode": {
    "name": "ipython",
    "version": 3
   },
   "pygments_lexer": "ipython3",
   "nbconvert_exporter": "python",
   "file_extension": ".py"
  },
  "kernelspec": {
   "name": "python3",
   "display_name": "Python 3.9.2 64-bit"
  },
  "interpreter": {
   "hash": "8a3e235f044e0dfc6f53a4c5d4cda1e778ffe7b9a45379a9fd7dbbb5c595c2cd"
  }
 },
 "nbformat": 4,
 "nbformat_minor": 2
}