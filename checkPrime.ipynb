{
 "cells": [
  {
   "cell_type": "code",
   "execution_count": 2,
   "source": [
    "def check_prime(num):\r\n",
    "    prime_checker = False\r\n",
    "    \r\n",
    "    if num < 1:\r\n",
    "        prime_checker = False\r\n",
    "    elif num == 1 and num <= 2:\r\n",
    "        prime_checker = True\r\n",
    "    elif num > 1:\r\n",
    "        for i in range(2,num):\r\n",
    "            if num % i == 0:\r\n",
    "                prime_checker = True\r\n",
    "                break\r\n",
    "\r\n",
    "    if prime_checker:\r\n",
    "        print(num, 'is not prime')\r\n",
    "    else:\r\n",
    "        print(num, 'is a prime')\r\n",
    "\r\n",
    "num = int(input('Enter any number of your choice: '))\r\n",
    "check_prime(num)\r\n"
   ],
   "outputs": [
    {
     "output_type": "stream",
     "name": "stdout",
     "text": [
      "67 is a prime\n"
     ]
    }
   ],
   "metadata": {}
  }
 ],
 "metadata": {
  "orig_nbformat": 4,
  "language_info": {
   "name": "python",
   "version": "3.9.2",
   "mimetype": "text/x-python",
   "codemirror_mode": {
    "name": "ipython",
    "version": 3
   },
   "pygments_lexer": "ipython3",
   "nbconvert_exporter": "python",
   "file_extension": ".py"
  },
  "kernelspec": {
   "name": "python3",
   "display_name": "Python 3.9.2 64-bit"
  },
  "interpreter": {
   "hash": "8a3e235f044e0dfc6f53a4c5d4cda1e778ffe7b9a45379a9fd7dbbb5c595c2cd"
  }
 },
 "nbformat": 4,
 "nbformat_minor": 2
}