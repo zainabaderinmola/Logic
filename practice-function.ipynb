{
 "cells": [
  {
   "cell_type": "code",
   "execution_count": 4,
   "source": [
    "mylist = [1,1,1,1,2,2,3,3,3,3,4,5]\r\n",
    "def unique_list(mylist):\r\n",
    "    x = []\r\n",
    "    for i in mylist:\r\n",
    "        if i not in x:\r\n",
    "            x.append(i)\r\n",
    "    return x\r\n",
    "\r\n",
    "unique_list(mylist)\r\n"
   ],
   "outputs": [
    {
     "output_type": "execute_result",
     "data": {
      "text/plain": [
       "[1, 2, 3, 4, 5]"
      ]
     },
     "metadata": {},
     "execution_count": 4
    }
   ],
   "metadata": {}
  },
  {
   "cell_type": "code",
   "execution_count": 6,
   "source": [
    "mylist\r\n",
    "list(set(mylist))\r\n"
   ],
   "outputs": [
    {
     "output_type": "execute_result",
     "data": {
      "text/plain": [
       "[1, 2, 3, 4, 5]"
      ]
     },
     "metadata": {},
     "execution_count": 6
    }
   ],
   "metadata": {}
  },
  {
   "cell_type": "code",
   "execution_count": null,
   "source": [],
   "outputs": [],
   "metadata": {}
  },
  {
   "cell_type": "code",
   "execution_count": 7,
   "source": [
    "samplelist = [1,2,3,-4]\r\n",
    "def multiply(numbers):\r\n",
    "    total = 1\r\n",
    "    for i in numbers:\r\n",
    "        total *= i\r\n",
    "    return total\r\n",
    "\r\n",
    "multiply(samplelist)\r\n"
   ],
   "outputs": [
    {
     "output_type": "execute_result",
     "data": {
      "text/plain": [
       "-24"
      ]
     },
     "metadata": {},
     "execution_count": 7
    }
   ],
   "metadata": {}
  },
  {
   "cell_type": "code",
   "execution_count": 9,
   "source": [
    "examplelist = [1,2,3,4,5,6,7,8,9,10]\r\n",
    "def add(numbers):\r\n",
    "    total = 0\r\n",
    "    for i in numbers:\r\n",
    "        total += i\r\n",
    "    return total\r\n",
    "\r\n",
    "add(examplelist)\r\n",
    "add(samplelist)"
   ],
   "outputs": [
    {
     "output_type": "execute_result",
     "data": {
      "text/plain": [
       "2"
      ]
     },
     "metadata": {},
     "execution_count": 9
    }
   ],
   "metadata": {}
  },
  {
   "cell_type": "code",
   "execution_count": null,
   "source": [],
   "outputs": [],
   "metadata": {}
  },
  {
   "cell_type": "code",
   "execution_count": null,
   "source": [],
   "outputs": [],
   "metadata": {}
  },
  {
   "cell_type": "code",
   "execution_count": 18,
   "source": [
    "words = ['nurses run', 'kayak', 'abcba', 'ant']\r\n",
    "#check for palindrome in words\r\n",
    "def palindrome(words):\r\n",
    "    item = []\r\n",
    "    for i in words:\r\n",
    "        i = i.replace(' ', '') \r\n",
    "        if i == i[::-1]:\r\n",
    "            item.append(i)\r\n",
    "        else:\r\n",
    "            pass\r\n",
    "    return item\r\n",
    "\r\n",
    "palindrome(words)\r\n"
   ],
   "outputs": [
    {
     "output_type": "execute_result",
     "data": {
      "text/plain": [
       "['nursesrun', 'kayak', 'abcba']"
      ]
     },
     "metadata": {},
     "execution_count": 18
    }
   ],
   "metadata": {}
  },
  {
   "cell_type": "code",
   "execution_count": null,
   "source": [],
   "outputs": [],
   "metadata": {}
  },
  {
   "cell_type": "code",
   "execution_count": 19,
   "source": [
    "alphabets = list(map(chr, range(97, 123)))\r\n",
    "print(alphabets)"
   ],
   "outputs": [
    {
     "output_type": "stream",
     "name": "stdout",
     "text": [
      "['a', 'b', 'c', 'd', 'e', 'f', 'g', 'h', 'i', 'j', 'k', 'l', 'm', 'n', 'o', 'p', 'q', 'r', 's', 't', 'u', 'v', 'w', 'x', 'y', 'z']\n"
     ]
    }
   ],
   "metadata": {}
  },
  {
   "cell_type": "code",
   "execution_count": 21,
   "source": [
    "def ispangram(str1, alphabets = list(map(chr, range(97, 123)))):\r\n",
    "    alphasets = set(alphabets)\r\n",
    "    str1 = str1.replace(' ', '')\r\n",
    "    str1 = str1.lower()\r\n",
    "    str1 = set(str1)\r\n",
    "    \r\n",
    "    return str1 == alphasets\r\n",
    "\r\n",
    "ispangram('The quick brown fox jumps over the lazy dog')\r\n"
   ],
   "outputs": [
    {
     "output_type": "execute_result",
     "data": {
      "text/plain": [
       "True"
      ]
     },
     "metadata": {},
     "execution_count": 21
    }
   ],
   "metadata": {}
  },
  {
   "cell_type": "code",
   "execution_count": null,
   "source": [
    "import string\r\n",
    "def ispanngram()"
   ],
   "outputs": [],
   "metadata": {}
  }
 ],
 "metadata": {
  "orig_nbformat": 4,
  "language_info": {
   "name": "python",
   "version": "3.9.2",
   "mimetype": "text/x-python",
   "codemirror_mode": {
    "name": "ipython",
    "version": 3
   },
   "pygments_lexer": "ipython3",
   "nbconvert_exporter": "python",
   "file_extension": ".py"
  },
  "kernelspec": {
   "name": "python3",
   "display_name": "Python 3.9.2 64-bit"
  },
  "interpreter": {
   "hash": "8a3e235f044e0dfc6f53a4c5d4cda1e778ffe7b9a45379a9fd7dbbb5c595c2cd"
  }
 },
 "nbformat": 4,
 "nbformat_minor": 2
}