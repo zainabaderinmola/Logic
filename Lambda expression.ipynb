{
 "cells": [
  {
   "cell_type": "code",
   "execution_count": 4,
   "source": [
    "# 1) Example of map\r\n",
    "def splicer(mystring):\r\n",
    "    if len(mystring)%2 == 0:\r\n",
    "        return 'EVEN'\r\n",
    "    else:\r\n",
    "        return mystring[0]\r\n",
    "\r\n",
    "names = ['Anabelle', 'Lokie', 'Gilbert', 'Bashir']\r\n",
    "\r\n",
    "list(map(splicer, names))"
   ],
   "outputs": [
    {
     "output_type": "execute_result",
     "data": {
      "text/plain": [
       "['EVEN', 'L', 'G', 'EVEN']"
      ]
     },
     "metadata": {},
     "execution_count": 4
    }
   ],
   "metadata": {}
  },
  {
   "cell_type": "code",
   "execution_count": 3,
   "source": [
    "# 2) Example of map\r\n",
    "def square(num):\r\n",
    "    return num**2\r\n",
    "\r\n",
    "mylist = [1,2,3,4,5]\r\n",
    "list(map(square, mylist))"
   ],
   "outputs": [
    {
     "output_type": "execute_result",
     "data": {
      "text/plain": [
       "[1, 4, 9, 16, 25]"
      ]
     },
     "metadata": {},
     "execution_count": 3
    }
   ],
   "metadata": {}
  },
  {
   "cell_type": "code",
   "execution_count": 14,
   "source": [
    "#  3) Example of filter\r\n",
    "def check_even(num):\r\n",
    "    return num%2 == 0\r\n",
    "\r\n",
    "\r\n",
    "my_nums = [1,2,3,4,5,6,7,8,9,0]\r\n",
    "\r\n",
    "list(filter(check_even, my_nums))\r\n",
    "\r\n",
    "for n in filter(check_even, my_nums):\r\n",
    "    print(n)"
   ],
   "outputs": [
    {
     "output_type": "stream",
     "name": "stdout",
     "text": [
      "2\n",
      "4\n",
      "6\n",
      "8\n",
      "0\n"
     ]
    }
   ],
   "metadata": {}
  },
  {
   "cell_type": "code",
   "execution_count": 10,
   "source": [
    "# 4) Lambda express\r\n",
    "\r\n",
    "def square(num):\r\n",
    "    return num**2\r\n",
    "\r\n",
    "\r\n",
    "lambda num: num** 2\r\n",
    "\r\n",
    "square (25)"
   ],
   "outputs": [
    {
     "output_type": "execute_result",
     "data": {
      "text/plain": [
       "625"
      ]
     },
     "metadata": {},
     "execution_count": 10
    }
   ],
   "metadata": {}
  },
  {
   "cell_type": "code",
   "execution_count": 13,
   "source": [
    "# Lamda is an anonymous function usually used in conjunction to other functions\r\n",
    "# like filter(), map() etc. It is not usually assigned a name\r\n",
    " \r\n",
    "my_num =[4,5,6,7,8,9,0,3,4]\r\n",
    "list(map(lambda num:num**2, my_num)) "
   ],
   "outputs": [
    {
     "output_type": "execute_result",
     "data": {
      "text/plain": [
       "[16, 25, 36, 49, 64, 81, 0, 9, 16]"
      ]
     },
     "metadata": {},
     "execution_count": 13
    }
   ],
   "metadata": {}
  },
  {
   "cell_type": "code",
   "execution_count": 18,
   "source": [
    "my_nums = [1,2,3,4,5,6,7,8,9,0]\r\n",
    "list(filter(lambda num:num%2 == 0, my_nums))\r\n"
   ],
   "outputs": [
    {
     "output_type": "execute_result",
     "data": {
      "text/plain": [
       "[2, 4, 6, 8, 0]"
      ]
     },
     "metadata": {},
     "execution_count": 18
    }
   ],
   "metadata": {}
  },
  {
   "cell_type": "code",
   "execution_count": 6,
   "source": [
    "names\r\n",
    "\r\n",
    "list(map(lambda names: names[::-1], names))"
   ],
   "outputs": [
    {
     "output_type": "execute_result",
     "data": {
      "text/plain": [
       "['ellebanA', 'eikoL', 'trebliG', 'rihsaB']"
      ]
     },
     "metadata": {},
     "execution_count": 6
    }
   ],
   "metadata": {}
  }
 ],
 "metadata": {
  "orig_nbformat": 4,
  "language_info": {
   "name": "python",
   "version": "3.9.2",
   "mimetype": "text/x-python",
   "codemirror_mode": {
    "name": "ipython",
    "version": 3
   },
   "pygments_lexer": "ipython3",
   "nbconvert_exporter": "python",
   "file_extension": ".py"
  },
  "kernelspec": {
   "name": "python3",
   "display_name": "Python 3.9.2 64-bit"
  },
  "interpreter": {
   "hash": "8a3e235f044e0dfc6f53a4c5d4cda1e778ffe7b9a45379a9fd7dbbb5c595c2cd"
  }
 },
 "nbformat": 4,
 "nbformat_minor": 2
}