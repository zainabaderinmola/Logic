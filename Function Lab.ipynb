{
 "cells": [
  {
   "cell_type": "code",
   "execution_count": 1,
   "source": [
    "def check_even(n):\r\n",
    "    if n % 2 == 0:\r\n",
    "        print(\"Is Even\")\r\n",
    "    else:\r\n",
    "        print(\"Not Even\")\r\n",
    "\r\n",
    "check_even(7)"
   ],
   "outputs": [
    {
     "output_type": "stream",
     "name": "stdout",
     "text": [
      "Not Even\n"
     ]
    }
   ],
   "metadata": {}
  },
  {
   "cell_type": "code",
   "execution_count": 11,
   "source": [
    "def is_prime(num):\r\n",
    "    prime_checker =  False\r\n",
    "\r\n",
    "    if num < 1:\r\n",
    "        prime_checker = False\r\n",
    "    elif num == 1 and num <= 2:\r\n",
    "        prime_checker = True\r\n",
    "    if num > 1:\r\n",
    "    # check for factors\r\n",
    "        for i in range(2, num):\r\n",
    "            if (num % i) == 0:\r\n",
    "                # if factor is found, set flag to True\r\n",
    "                prime_checker = True\r\n",
    "                # break out of loop\r\n",
    "                break\r\n",
    "    if prime_checker:\r\n",
    "        print(num, \"is not a prime number\")\r\n",
    "    else:\r\n",
    "        print(num, \"is a prime number\")\r\n",
    "\r\n",
    "is_prime(15)"
   ],
   "outputs": [
    {
     "output_type": "stream",
     "name": "stdout",
     "text": [
      "15 is not a prime number\n"
     ]
    }
   ],
   "metadata": {}
  },
  {
   "cell_type": "code",
   "execution_count": 8,
   "source": [
    "A = range(80,101)\r\n",
    "B = range(70,80)\r\n",
    "C = range(50,70)\r\n",
    "D = range(40,50)\r\n",
    "E = range(30,40)\r\n",
    "F = range(0,30)\r\n",
    "\r\n",
    "def get_grade(grade):\r\n",
    "    for score in grade:\r\n",
    "        if score in range(grade):\r\n",
    "            return grade\r\n",
    "    return grade\r\n",
    "get_grade()"
   ],
   "outputs": [
    {
     "output_type": "error",
     "ename": "TypeError",
     "evalue": "get_grade() missing 1 required positional argument: 'grade'",
     "traceback": [
      "\u001b[1;31m---------------------------------------------------------------------------\u001b[0m",
      "\u001b[1;31mTypeError\u001b[0m                                 Traceback (most recent call last)",
      "\u001b[1;32m~\\AppData\\Local\\Temp/ipykernel_22436/1725569440.py\u001b[0m in \u001b[0;36m<module>\u001b[1;34m\u001b[0m\n\u001b[0;32m     11\u001b[0m             \u001b[1;32mreturn\u001b[0m \u001b[0mgrade\u001b[0m\u001b[1;33m\u001b[0m\u001b[1;33m\u001b[0m\u001b[0m\n\u001b[0;32m     12\u001b[0m     \u001b[1;32mreturn\u001b[0m \u001b[0mgrade\u001b[0m\u001b[1;33m\u001b[0m\u001b[1;33m\u001b[0m\u001b[0m\n\u001b[1;32m---> 13\u001b[1;33m \u001b[0mget_grade\u001b[0m\u001b[1;33m(\u001b[0m\u001b[1;33m)\u001b[0m\u001b[1;33m\u001b[0m\u001b[1;33m\u001b[0m\u001b[0m\n\u001b[0m",
      "\u001b[1;31mTypeError\u001b[0m: get_grade() missing 1 required positional argument: 'grade'"
     ]
    }
   ],
   "metadata": {}
  }
 ],
 "metadata": {
  "orig_nbformat": 4,
  "language_info": {
   "name": "python",
   "version": "3.9.2",
   "mimetype": "text/x-python",
   "codemirror_mode": {
    "name": "ipython",
    "version": 3
   },
   "pygments_lexer": "ipython3",
   "nbconvert_exporter": "python",
   "file_extension": ".py"
  },
  "kernelspec": {
   "name": "python3",
   "display_name": "Python 3.9.2 64-bit"
  },
  "interpreter": {
   "hash": "8a3e235f044e0dfc6f53a4c5d4cda1e778ffe7b9a45379a9fd7dbbb5c595c2cd"
  }
 },
 "nbformat": 4,
 "nbformat_minor": 2
}