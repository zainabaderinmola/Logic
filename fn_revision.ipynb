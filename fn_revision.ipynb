{
 "cells": [
  {
   "cell_type": "code",
   "execution_count": 12,
   "source": [
    "# Methods: they are built in functions in the form:\r\n",
    "    #object.method(arg1,arg2,...)\r\n",
    "\r\n",
    "mylist = [1,2,3,4,5]\r\n",
    "mylist.append(6)\r\n",
    "mylist.count(6)\r\n",
    "mylist.extend([7,8,9])\r\n",
    "mylist.insert(5,0)\r\n",
    "mylist.pop(5)\r\n",
    "mylist.sort(reverse=True)\r\n",
    "mylist.append(0)\r\n",
    "mylist.sort(reverse=True)\r\n",
    "mylist"
   ],
   "outputs": [
    {
     "output_type": "execute_result",
     "data": {
      "text/plain": [
       "[9, 8, 7, 6, 5, 4, 3, 2, 1, 0]"
      ]
     },
     "metadata": {},
     "execution_count": 12
    }
   ],
   "metadata": {}
  },
  {
   "cell_type": "code",
   "execution_count": null,
   "source": [],
   "outputs": [],
   "metadata": {}
  },
  {
   "cell_type": "code",
   "execution_count": null,
   "source": [
    "# Functions: used when planning to use a block of codes repeatedly. It has a syntax of:\r\n",
    "# def name_of_function(arg1,arg2):\r\n",
    "    '''\r\n",
    "    You may write some notes here or docstring. \r\n",
    "    When you call help() on your function, the docstring will be printed our\r\n",
    "    '''\r\n",
    "    # Write your block(s) of code(s) here\r\n",
    "    #   return desired output or result\r\n",
    "\r\n"
   ],
   "outputs": [],
   "metadata": {}
  },
  {
   "cell_type": "code",
   "execution_count": 18,
   "source": [
    "# write a function that says hello\r\n",
    "def say_hello():\r\n",
    "    print('Hello')\r\n",
    "\r\n",
    "say_hello()"
   ],
   "outputs": [
    {
     "output_type": "stream",
     "name": "stdout",
     "text": [
      "Hello\n"
     ]
    }
   ],
   "metadata": {}
  },
  {
   "cell_type": "code",
   "execution_count": 23,
   "source": [
    "def greeting(person):\r\n",
    "    print(f'Hello {person}!')\r\n",
    "\r\n",
    "greeting('Akeem')"
   ],
   "outputs": [
    {
     "output_type": "stream",
     "name": "stdout",
     "text": [
      "Hello Akeem!\n"
     ]
    }
   ],
   "metadata": {}
  },
  {
   "cell_type": "code",
   "execution_count": 29,
   "source": [
    "# 'return' is used because it allows saving the resultant as a variable.\r\n",
    "def add_num(num1,num2):\r\n",
    "    return num1 + num2\r\n",
    "\r\n",
    "result = add_num('q','a')\r\n",
    "result"
   ],
   "outputs": [
    {
     "output_type": "execute_result",
     "data": {
      "text/plain": [
       "'qa'"
      ]
     },
     "metadata": {},
     "execution_count": 29
    }
   ],
   "metadata": {}
  },
  {
   "cell_type": "code",
   "execution_count": 31,
   "source": [
    "def odd_check(number):\r\n",
    "    return number % 2 == 1\r\n",
    "\r\n",
    "odd_check(37)"
   ],
   "outputs": [
    {
     "output_type": "execute_result",
     "data": {
      "text/plain": [
       "True"
      ]
     },
     "metadata": {},
     "execution_count": 31
    }
   ],
   "metadata": {}
  },
  {
   "cell_type": "code",
   "execution_count": 34,
   "source": [
    "# Check if any number in a list is even\r\n",
    "def check_even_list(num_list):\r\n",
    "    # Check through the numbers in the list using loop\r\n",
    "    for number in num_list:\r\n",
    "        # Return an even number, once we get one\r\n",
    "        if number % 2 == 0:\r\n",
    "            return number\r\n",
    "        # Pass over the num_list till there is a hit\r\n",
    "        else:\r\n",
    "            pass\r\n",
    "    \r\n",
    "    return False\r\n",
    "\r\n",
    "\r\n",
    "check_even_list([1,1,1,3,])"
   ],
   "outputs": [
    {
     "output_type": "execute_result",
     "data": {
      "text/plain": [
       "False"
      ]
     },
     "metadata": {},
     "execution_count": 34
    }
   ],
   "metadata": {}
  },
  {
   "cell_type": "code",
   "execution_count": 39,
   "source": [
    "# Return all even number in a list\r\n",
    "def check_even_list(num_list):\r\n",
    "    even_numbers = []\r\n",
    "    odd_numbers = []\r\n",
    "    for number in num_list:\r\n",
    "        if number % 2 == 0:\r\n",
    "            even_numbers.append(number)\r\n",
    "        else:\r\n",
    "            odd_numbers.append(number)\r\n",
    "    \r\n",
    "    return even_numbers, odd_numbers\r\n",
    "\r\n",
    "check_even_list([1,2,3,4,5,6,7,8,9,0])\r\n"
   ],
   "outputs": [
    {
     "output_type": "execute_result",
     "data": {
      "text/plain": [
       "([2, 4, 6, 8, 0], [1, 3, 5, 7, 9])"
      ]
     },
     "metadata": {},
     "execution_count": 39
    }
   ],
   "metadata": {}
  },
  {
   "cell_type": "code",
   "execution_count": 43,
   "source": [
    "# Returning Tupules for Unppacking\r\n",
    "personal_data = [('Zainab', 29),('Akeem', 30),('Fulaanah', 23)]\r\n",
    "# for item in personal_data:\r\n",
    "#     print(item)\r\n",
    "\r\n",
    "for name,age in personal_data:\r\n",
    "    print(age)"
   ],
   "outputs": [
    {
     "output_type": "stream",
     "name": "stdout",
     "text": [
      "29\n",
      "30\n",
      "23\n"
     ]
    }
   ],
   "metadata": {}
  },
  {
   "cell_type": "code",
   "execution_count": 48,
   "source": [
    "work_hours = [('Frank', 430),('Akeem', 278),('Gilbert', 412), ('Sam', 478)]\r\n",
    "\r\n",
    "def employee_check(work_hours):\r\n",
    "    current_max = 0\r\n",
    "    employee_of_the_month = ''\r\n",
    "\r\n",
    "    for employee,hours in work_hours:\r\n",
    "        if hours > current_max:\r\n",
    "            current_max = hours\r\n",
    "            employee_of_the_month = employee\r\n",
    "        else:\r\n",
    "            pass\r\n",
    "    \r\n",
    "    return(employee_of_the_month,current_max)\r\n",
    "\r\n",
    "employee_check(work_hours)"
   ],
   "outputs": [
    {
     "output_type": "execute_result",
     "data": {
      "text/plain": [
       "('Sam', 478)"
      ]
     },
     "metadata": {},
     "execution_count": 48
    }
   ],
   "metadata": {}
  },
  {
   "cell_type": "code",
   "execution_count": 56,
   "source": [
    "# Interactions between functions\r\n",
    "from random import shuffle\r\n",
    "example = [1,2,3,4,5,6,7,8,9]\r\n",
    "shuffle(example)\r\n",
    "example"
   ],
   "outputs": [
    {
     "output_type": "execute_result",
     "data": {
      "text/plain": [
       "[2, 7, 5, 1, 6, 3, 9, 8, 4]"
      ]
     },
     "metadata": {},
     "execution_count": 56
    }
   ],
   "metadata": {}
  },
  {
   "cell_type": "code",
   "execution_count": null,
   "source": [],
   "outputs": [],
   "metadata": {}
  },
  {
   "cell_type": "code",
   "execution_count": 75,
   "source": [
    "# Interactions between functions to create a simple game\r\n",
    "# 1) Create a function to shuffle initial list\r\n",
    "mylist = [' ', 'O',' ']\r\n",
    "\r\n",
    "def shuffle_list(mylist):\r\n",
    "    shuffle(mylist)\r\n",
    "\r\n",
    "    return mylist\r\n",
    "\r\n",
    "shuffle_list(mylist)"
   ],
   "outputs": [
    {
     "output_type": "execute_result",
     "data": {
      "text/plain": [
       "['O', ' ', ' ']"
      ]
     },
     "metadata": {},
     "execution_count": 75
    }
   ],
   "metadata": {}
  },
  {
   "cell_type": "code",
   "execution_count": 76,
   "source": [
    "# 2) Create a function for user input: User interaction phase2\r\n",
    "def player_guess():\r\n",
    "    guess = ''\r\n",
    "    while guess not in ['0','1','2']:\r\n",
    "        guess = input(\"Pick a number (0, 1, or 2):  \")\r\n",
    "    return int(guess)\r\n",
    "\r\n",
    "player_guess()"
   ],
   "outputs": [
    {
     "output_type": "execute_result",
     "data": {
      "text/plain": [
       "2"
      ]
     },
     "metadata": {},
     "execution_count": 76
    }
   ],
   "metadata": {}
  },
  {
   "cell_type": "code",
   "execution_count": 71,
   "source": [
    "# 3) function to check if guess corresponds to the shuffle\r\n",
    "def check_guess(mylist,guess):\r\n",
    "    if mylist[guess] == 'O':\r\n",
    "        print(\"Well done!\")\r\n",
    "    else:\r\n",
    "        print(\"OOopss! Wrong answer\")\r\n",
    "        print(mylist)"
   ],
   "outputs": [],
   "metadata": {}
  },
  {
   "cell_type": "code",
   "execution_count": 81,
   "source": [
    "# 4) logic to bring all of the fuctions together\r\n",
    "mylist = [' ', 'O', ' ']\r\n",
    "shuffled_list = shuffle_list(mylist)\r\n",
    "guess = player_guess()\r\n",
    "check_guess(shuffled_list,guess)"
   ],
   "outputs": [
    {
     "output_type": "stream",
     "name": "stdout",
     "text": [
      "OOopss! Wrong answer\n",
      "[' ', 'O', ' ']\n"
     ]
    }
   ],
   "metadata": {}
  },
  {
   "cell_type": "code",
   "execution_count": null,
   "source": [],
   "outputs": [],
   "metadata": {}
  },
  {
   "cell_type": "code",
   "execution_count": 128,
   "source": [
    "text = 'I am home'\r\n",
    "text_list = text.split()\r\n",
    "new_text = text_list[::-1]\r\n",
    "' '.join(new_text)\r\n"
   ],
   "outputs": [
    {
     "output_type": "execute_result",
     "data": {
      "text/plain": [
       "'home am I'"
      ]
     },
     "metadata": {},
     "execution_count": 128
    }
   ],
   "metadata": {}
  },
  {
   "cell_type": "code",
   "execution_count": 97,
   "source": [
    "def animal_crackers(text):\r\n",
    "    text_list = text.split()\r\n",
    "    if text_list[0][0] == text_list[1][0]:\r\n",
    "        return True\r\n",
    "    else:\r\n",
    "        False\r\n",
    "\r\n",
    "animal_crackers('llama level')"
   ],
   "outputs": [
    {
     "output_type": "execute_result",
     "data": {
      "text/plain": [
       "True"
      ]
     },
     "metadata": {},
     "execution_count": 97
    }
   ],
   "metadata": {}
  },
  {
   "cell_type": "code",
   "execution_count": 103,
   "source": [
    "text = 'macdonald'\r\n",
    "text[:1].upper()+text[1:3]+text[3].upper()+text[4:]"
   ],
   "outputs": [
    {
     "output_type": "execute_result",
     "data": {
      "text/plain": [
       "'MacDonald'"
      ]
     },
     "metadata": {},
     "execution_count": 103
    }
   ],
   "metadata": {}
  }
 ],
 "metadata": {
  "orig_nbformat": 4,
  "language_info": {
   "name": "python",
   "version": "3.9.2",
   "mimetype": "text/x-python",
   "codemirror_mode": {
    "name": "ipython",
    "version": 3
   },
   "pygments_lexer": "ipython3",
   "nbconvert_exporter": "python",
   "file_extension": ".py"
  },
  "kernelspec": {
   "name": "python3",
   "display_name": "Python 3.9.2 64-bit"
  },
  "interpreter": {
   "hash": "8a3e235f044e0dfc6f53a4c5d4cda1e778ffe7b9a45379a9fd7dbbb5c595c2cd"
  }
 },
 "nbformat": 4,
 "nbformat_minor": 2
}