{
 "cells": [
  {
   "cell_type": "code",
   "execution_count": null,
   "source": [
    "def check_even_list(numberlist):\r\n",
    "    for num in numberlist:\r\n",
    "        if num%2 == 0:\r\n",
    "            return True\r\n",
    "        else:\r\n",
    "            pass\r\n",
    "    \r\n",
    "    return False\r\n",
    "\r\n",
    "\r\n",
    "check_even_list([1,1,3,2,6,7])\r\n",
    "    "
   ],
   "outputs": [],
   "metadata": {}
  },
  {
   "cell_type": "code",
   "execution_count": null,
   "source": [
    "# Shuffle game\r\n",
    "# Game should have a shuffle list\r\n",
    "# Player guess\r\n",
    "# Check if guess is correct\r\n",
    "# Logical setup to run all the functions"
   ],
   "outputs": [],
   "metadata": {}
  },
  {
   "cell_type": "code",
   "execution_count": 2,
   "source": [
    "# shuffle list\r\n",
    "mylist = [' ', 'O', ' ']\r\n",
    "from random import shuffle\r\n",
    "def shuffle_list(mylist):\r\n",
    "    # here, write code to shuffle list\r\n",
    "    shuffle(mylist)\r\n",
    "    \r\n",
    "    return mylist\r\n",
    "\r\n",
    "\r\n",
    "mylist\r\n",
    "\r\n",
    "shuffle_list(mylist)\r\n"
   ],
   "outputs": [
    {
     "output_type": "execute_result",
     "data": {
      "text/plain": [
       "['O', ' ', ' ']"
      ]
     },
     "metadata": {},
     "execution_count": 2
    }
   ],
   "metadata": {}
  },
  {
   "cell_type": "code",
   "execution_count": 1,
   "source": [
    "# Player guess\r\n",
    "def player_guess():\r\n",
    "    guess = ''\r\n",
    "\r\n",
    "    while guess not in ['0','1','2']:\r\n",
    "\r\n",
    "        guess = input(\"Pick a number -:  0,  1, or  2  :    \")\r\n",
    "\r\n",
    "    return int(guess)\r\n",
    "player_guess()\r\n",
    "\r\n",
    "\r\n"
   ],
   "outputs": [
    {
     "output_type": "execute_result",
     "data": {
      "text/plain": [
       "2"
      ]
     },
     "metadata": {},
     "execution_count": 1
    }
   ],
   "metadata": {}
  },
  {
   "cell_type": "code",
   "execution_count": 6,
   "source": [
    "# Check if guess is correct\r\n",
    "def check_guess(mylist,guess):\r\n",
    "    if mylist[guess] == 'O':\r\n",
    "        print('Great job!!! You are correct.')\r\n",
    "        print(mylist)\r\n",
    "    else:\r\n",
    "        print('Better luck next time :)')\r\n",
    "        print(mylist)\r\n",
    "\r\n",
    "check_guess(mylist,guess)     "
   ],
   "outputs": [
    {
     "output_type": "stream",
     "name": "stdout",
     "text": [
      "Better luck next time :)\n",
      "[' ', ' ', 'O']\n"
     ]
    }
   ],
   "metadata": {}
  },
  {
   "cell_type": "code",
   "execution_count": 8,
   "source": [
    "# Unshuffled list\r\n",
    "\r\n",
    "mylist = [' ','O', ' ']\r\n",
    "\r\n",
    "# Shuffle the list\r\n",
    "mixed_up_list = shuffle_list(mylist)\r\n",
    "\r\n",
    "# Get player's guess\r\n",
    "guess = player_guess()\r\n",
    "\r\n",
    "# Check player's guess\r\n",
    "check_guess(mixed_up_list,guess)"
   ],
   "outputs": [
    {
     "output_type": "stream",
     "name": "stdout",
     "text": [
      "Great job!!! You are correct.\n"
     ]
    }
   ],
   "metadata": {}
  }
 ],
 "metadata": {
  "orig_nbformat": 4,
  "language_info": {
   "name": "python",
   "version": "3.9.2",
   "mimetype": "text/x-python",
   "codemirror_mode": {
    "name": "ipython",
    "version": 3
   },
   "pygments_lexer": "ipython3",
   "nbconvert_exporter": "python",
   "file_extension": ".py"
  },
  "kernelspec": {
   "name": "python3",
   "display_name": "Python 3.9.2 64-bit"
  },
  "interpreter": {
   "hash": "8a3e235f044e0dfc6f53a4c5d4cda1e778ffe7b9a45379a9fd7dbbb5c595c2cd"
  }
 },
 "nbformat": 4,
 "nbformat_minor": 2
}