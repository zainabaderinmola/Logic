{
 "cells": [
  {
   "cell_type": "code",
   "execution_count": null,
   "source": [
    "mylist = [1,2,3,4]\r\n",
    "mylist[::-1]"
   ],
   "outputs": [],
   "metadata": {}
  },
  {
   "cell_type": "code",
   "execution_count": null,
   "source": [
    "first_variable = 0"
   ],
   "outputs": [],
   "metadata": {}
  },
  {
   "cell_type": "code",
   "execution_count": null,
   "source": [
    "principal = int(input(\"Enter a value for principal:  \"))\r\n",
    "\r\n",
    "rate = int(input(\"Enter a value for rate:  \"))\r\n",
    "\r\n",
    "time = int(input(\"Enter a value for time:  \"))"
   ],
   "outputs": [],
   "metadata": {}
  },
  {
   "cell_type": "code",
   "execution_count": null,
   "source": [
    "simple_interest = principal * rate * time\r\n",
    "\r\n",
    "print(simple_interest)"
   ],
   "outputs": [],
   "metadata": {}
  },
  {
   "cell_type": "code",
   "execution_count": null,
   "source": [
    "300 + 5 - 6 * (9/3)\r\n",
    "\r\n",
    "300/7%5\r\n",
    "\r\n",
    "2**5"
   ],
   "outputs": [],
   "metadata": {}
  },
  {
   "cell_type": "code",
   "execution_count": null,
   "source": [
    "from math import pi\r\n",
    "radius = 7\r\n",
    "area_of_a_circle = pi * (radius**2)\r\n",
    "area_of_a_circle"
   ],
   "outputs": [],
   "metadata": {}
  },
  {
   "cell_type": "code",
   "execution_count": null,
   "source": [
    "principal = 0\r\n",
    "interest = 0\r\n",
    "modu = 5%2\r\n",
    "principal += 100\r\n",
    "interest += 50\r\n",
    "interest -= 20\r\n",
    "print(principal)\r\n",
    "print(interest)\r\n",
    "print(modu)"
   ],
   "outputs": [],
   "metadata": {}
  },
  {
   "cell_type": "code",
   "execution_count": null,
   "source": [
    "Celcius = int(input(\"Enter value for Celcius:  \"))\r\n",
    "Fahreinheit = (9/5) * Celcius + 32\r\n",
    "print(Fahreinheit)"
   ],
   "outputs": [],
   "metadata": {}
  },
  {
   "cell_type": "code",
   "execution_count": null,
   "source": [
    "radius = int(input(\"Enter value of radius:  \"))\r\n",
    "length = int(input(\"Enter value of length:  \"))\r\n",
    "\r\n",
    "area = radius*radius*pi\r\n",
    "volume = area * length\r\n",
    "print(area)\r\n",
    "print(volume)"
   ],
   "outputs": [],
   "metadata": {}
  },
  {
   "cell_type": "code",
   "execution_count": null,
   "source": [
    "subtotal = int(input(\"Enter value for subtotal:  \"))\r\n",
    "gratuity =int(input(\"Enter a value for:  \"))\r\n",
    "tips = subtotal + (gratuity/100) \r\n",
    "print(tips)"
   ],
   "outputs": [],
   "metadata": {}
  },
  {
   "cell_type": "code",
   "execution_count": null,
   "source": [
    "(932//100) + (932 // 310) + (932 % 10)"
   ],
   "outputs": [],
   "metadata": {}
  },
  {
   "cell_type": "code",
   "execution_count": 73,
   "source": [
    "mylist = [1,2,3,4]\r\n",
    "tuple_convert = tuple(mylist)\r\n",
    "mylist.count(2)"
   ],
   "outputs": [
    {
     "output_type": "execute_result",
     "data": {
      "text/plain": [
       "1"
      ]
     },
     "metadata": {},
     "execution_count": 73
    }
   ],
   "metadata": {}
  },
  {
   "cell_type": "code",
   "execution_count": 72,
   "source": [
    "def square(num):\r\n",
    "    return num**2"
   ],
   "outputs": [],
   "metadata": {}
  },
  {
   "cell_type": "code",
   "execution_count": null,
   "source": [
    "# for item in map(square, mylist):\r\n",
    "#     print(item)\r\n",
    "\r\n",
    "\r\n",
    "newlist = list(map(square, mylist))"
   ],
   "outputs": [],
   "metadata": {}
  },
  {
   "cell_type": "code",
   "execution_count": 89,
   "source": [
    "reversed = [10,9,8,7,6,5,4,3,2,1]\r\n",
    "list(reversed(range(10,1,-1)))"
   ],
   "outputs": [
    {
     "output_type": "error",
     "ename": "TypeError",
     "evalue": "'list' object is not callable",
     "traceback": [
      "\u001b[1;31m---------------------------------------------------------------------------\u001b[0m",
      "\u001b[1;31mTypeError\u001b[0m                                 Traceback (most recent call last)",
      "\u001b[1;32m~\\AppData\\Local\\Temp/ipykernel_4364/1099326259.py\u001b[0m in \u001b[0;36m<module>\u001b[1;34m\u001b[0m\n\u001b[0;32m      1\u001b[0m \u001b[0mreversed\u001b[0m \u001b[1;33m=\u001b[0m \u001b[1;33m[\u001b[0m\u001b[1;36m10\u001b[0m\u001b[1;33m,\u001b[0m\u001b[1;36m9\u001b[0m\u001b[1;33m,\u001b[0m\u001b[1;36m8\u001b[0m\u001b[1;33m,\u001b[0m\u001b[1;36m7\u001b[0m\u001b[1;33m,\u001b[0m\u001b[1;36m6\u001b[0m\u001b[1;33m,\u001b[0m\u001b[1;36m5\u001b[0m\u001b[1;33m,\u001b[0m\u001b[1;36m4\u001b[0m\u001b[1;33m,\u001b[0m\u001b[1;36m3\u001b[0m\u001b[1;33m,\u001b[0m\u001b[1;36m2\u001b[0m\u001b[1;33m,\u001b[0m\u001b[1;36m1\u001b[0m\u001b[1;33m]\u001b[0m\u001b[1;33m\u001b[0m\u001b[1;33m\u001b[0m\u001b[0m\n\u001b[1;32m----> 2\u001b[1;33m \u001b[0mlist\u001b[0m\u001b[1;33m(\u001b[0m\u001b[0mreversed\u001b[0m\u001b[1;33m(\u001b[0m\u001b[0mrange\u001b[0m\u001b[1;33m(\u001b[0m\u001b[1;36m10\u001b[0m\u001b[1;33m,\u001b[0m\u001b[1;36m1\u001b[0m\u001b[1;33m,\u001b[0m\u001b[1;33m-\u001b[0m\u001b[1;36m1\u001b[0m\u001b[1;33m)\u001b[0m\u001b[1;33m)\u001b[0m\u001b[1;33m)\u001b[0m\u001b[1;33m\u001b[0m\u001b[1;33m\u001b[0m\u001b[0m\n\u001b[0m",
      "\u001b[1;31mTypeError\u001b[0m: 'list' object is not callable"
     ]
    }
   ],
   "metadata": {}
  }
 ],
 "metadata": {
  "orig_nbformat": 4,
  "language_info": {
   "name": "python",
   "version": "3.9.2",
   "mimetype": "text/x-python",
   "codemirror_mode": {
    "name": "ipython",
    "version": 3
   },
   "pygments_lexer": "ipython3",
   "nbconvert_exporter": "python",
   "file_extension": ".py"
  },
  "kernelspec": {
   "name": "python3",
   "display_name": "Python 3.9.2 64-bit"
  },
  "interpreter": {
   "hash": "8a3e235f044e0dfc6f53a4c5d4cda1e778ffe7b9a45379a9fd7dbbb5c595c2cd"
  }
 },
 "nbformat": 4,
 "nbformat_minor": 2
}