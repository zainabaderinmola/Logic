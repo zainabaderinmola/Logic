{
 "cells": [
  {
   "cell_type": "markdown",
   "source": [
    "def vol(rad):\r\n",
    "    return (4/3) * (3.14) * (rad**3)\r\n",
    "\r\n",
    "vol(2)"
   ],
   "metadata": {}
  },
  {
   "cell_type": "code",
   "execution_count": null,
   "source": [],
   "outputs": [],
   "metadata": {}
  },
  {
   "cell_type": "code",
   "execution_count": 10,
   "source": [
    "#function that returns area of a circle \r\n",
    "def area_circle(r):\r\n",
    "    return (22/7)*(r**2)\r\n",
    "\r\n",
    "area_circle(7)"
   ],
   "outputs": [
    {
     "output_type": "execute_result",
     "data": {
      "text/plain": [
       "154.0"
      ]
     },
     "metadata": {},
     "execution_count": 10
    }
   ],
   "metadata": {}
  },
  {
   "cell_type": "code",
   "execution_count": null,
   "source": [],
   "outputs": [],
   "metadata": {}
  },
  {
   "cell_type": "code",
   "execution_count": 18,
   "source": [
    "def run_check(num,low,high):\r\n",
    "    if num > low and num < high:\r\n",
    "        print(f'{num} is within the range of {low} and {high}')\r\n",
    "    \r\n",
    "\r\n",
    "run_check(5,2,7)"
   ],
   "outputs": [
    {
     "output_type": "stream",
     "name": "stdout",
     "text": [
      "5 is within the range of 2 and 7\n"
     ]
    }
   ],
   "metadata": {}
  },
  {
   "cell_type": "code",
   "execution_count": 30,
   "source": [
    "def bool_check(num,low,high):\r\n",
    "    return num in range(num,high)\r\n",
    "    if num > low and num < high:\r\n",
    "        return True\r\n",
    "    else:\r\n",
    "        False\r\n",
    "\r\n",
    "bool_check(1,1,2)"
   ],
   "outputs": [
    {
     "output_type": "execute_result",
     "data": {
      "text/plain": [
       "True"
      ]
     },
     "metadata": {},
     "execution_count": 30
    }
   ],
   "metadata": {}
  },
  {
   "cell_type": "code",
   "execution_count": 18,
   "source": [
    "sample_string = 'Hello Mr. Rogers, how are you, this fine Tuesday'\r\n",
    "def up_low(sample_string):\r\n",
    "    dic = {'upper':0, 'lower':0}\r\n",
    "    for char in sample_string:\r\n",
    "        if char.isupper():\r\n",
    "            dic['upper']+=1\r\n",
    "        elif char.islower():\r\n",
    "            dic['lower']+=1\r\n",
    "        else:\r\n",
    "            pass\r\n",
    "    print('Original String : ', sample_string)\r\n",
    "    print('No of Upper case characters : ', dic['upper'])\r\n",
    "    print('No of Lower case characters : ', dic['lower'])\r\n",
    "\r\n",
    "up_low(sample_string)"
   ],
   "outputs": [
    {
     "output_type": "stream",
     "name": "stdout",
     "text": [
      "Original String :  Hello Mr. Rogers, how are you, this fine Tuesday\n",
      "No of Upper case characters :  4\n",
      "No of Lower case characters :  33\n"
     ]
    }
   ],
   "metadata": {}
  },
  {
   "cell_type": "code",
   "execution_count": null,
   "source": [],
   "outputs": [],
   "metadata": {}
  },
  {
   "cell_type": "code",
   "execution_count": null,
   "source": [],
   "outputs": [],
   "metadata": {}
  }
 ],
 "metadata": {
  "orig_nbformat": 4,
  "language_info": {
   "name": "python",
   "version": "3.9.2",
   "mimetype": "text/x-python",
   "codemirror_mode": {
    "name": "ipython",
    "version": 3
   },
   "pygments_lexer": "ipython3",
   "nbconvert_exporter": "python",
   "file_extension": ".py"
  },
  "kernelspec": {
   "name": "python3",
   "display_name": "Python 3.9.2 64-bit"
  },
  "interpreter": {
   "hash": "8a3e235f044e0dfc6f53a4c5d4cda1e778ffe7b9a45379a9fd7dbbb5c595c2cd"
  }
 },
 "nbformat": 4,
 "nbformat_minor": 2
}